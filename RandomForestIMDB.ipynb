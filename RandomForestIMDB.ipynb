{
 "cells": [
  {
   "cell_type": "code",
   "execution_count": 63,
   "metadata": {},
   "outputs": [],
   "source": [
    "import pandas as pd\n",
    "import numpy as np\n",
    "from sklearn import tree\n",
    "from sklearn.ensemble import RandomForestClassifier\n",
    "from sklearn.metrics import accuracy_score\n",
    "from sklearn.metrics import precision_score\n",
    "from sklearn.metrics import recall_score\n",
    "from sklearn.feature_extraction.text import CountVectorizer, TfidfVectorizer, TfidfTransformer\n",
    "from sklearn.pipeline import Pipeline\n",
    "from sklearn.model_selection import train_test_split"
   ]
  },
  {
   "cell_type": "code",
   "execution_count": 64,
   "metadata": {},
   "outputs": [],
   "source": [
    "df = pd.read_csv('Train Processing.csv')\n",
    "df.replace('', np.nan, inplace=True)\n",
    "df.dropna(inplace=True)\n",
    "Positive = df.loc[df['label'] == 1, 'text'].copy().reset_index(drop=True)\n",
    "Negative = df.loc[df['label'] == 0, 'text'].copy().reset_index(drop=True)"
   ]
  },
  {
   "cell_type": "code",
   "execution_count": 65,
   "metadata": {},
   "outputs": [
    {
     "data": {
      "text/plain": [
       "(19981, 20019)"
      ]
     },
     "execution_count": 65,
     "metadata": {},
     "output_type": "execute_result"
    }
   ],
   "source": [
    "len(Positive), len(Negative)"
   ]
  },
  {
   "cell_type": "code",
   "execution_count": 66,
   "metadata": {},
   "outputs": [],
   "source": [
    "vect = TfidfVectorizer(max_features=1500, min_df=5, max_df=0.7)\n"
   ]
  },
  {
   "cell_type": "code",
   "execution_count": 67,
   "metadata": {},
   "outputs": [],
   "source": [
    "X_train, X_test, y_train, y_test = train_test_split(df['text'].values, df['label'].values, test_size=0.2, random_state=0)"
   ]
  },
  {
   "cell_type": "code",
   "execution_count": 68,
   "metadata": {},
   "outputs": [
    {
     "data": {
      "text/plain": [
       "(32000, 8000, 32000, 8000)"
      ]
     },
     "execution_count": 68,
     "metadata": {},
     "output_type": "execute_result"
    }
   ],
   "source": [
    "len(X_train), len(X_test), len(y_train), len(y_test)"
   ]
  },
  {
   "cell_type": "code",
   "execution_count": 69,
   "metadata": {},
   "outputs": [],
   "source": [
    "tfidf_train = vect.fit_transform(X_train)\n",
    "tfidf_test = vect.transform(X_test)"
   ]
  },
  {
   "cell_type": "markdown",
   "metadata": {},
   "source": [
    "Pada random forest, parameter yang diobservasi adalah n_estimator, max depth, dan max_features. "
   ]
  },
  {
   "cell_type": "markdown",
   "metadata": {},
   "source": [
    "Dibawah ini menggunakan n_estimators=200, max_depth=20 dan max_features= auto."
   ]
  },
  {
   "cell_type": "code",
   "execution_count": 76,
   "metadata": {},
   "outputs": [
    {
     "name": "stdout",
     "output_type": "stream",
     "text": [
      "Accuracy: 82.4375%\n",
      "Precision: 82.56765488016423%\n",
      "Recall: 82.4375%\n"
     ]
    }
   ],
   "source": [
    "clf1 = RandomForestClassifier(n_estimators=200, max_depth=20, bootstrap=True, class_weight=None, criterion='gini',\n",
    "            max_features='auto', max_leaf_nodes=None,\n",
    "            min_impurity_decrease=0.0, min_impurity_split=None,\n",
    "            min_samples_leaf=1, min_samples_split=2,\n",
    "            min_weight_fraction_leaf=0.0, n_jobs=1,\n",
    "            oob_score=False, random_state=None, verbose=0,\n",
    "            warm_start=False)\n",
    "clf1 = clf1.fit(tfidf_train, y_train)\n",
    "preds1 = clf1.predict(tfidf_test)\n",
    "print ('Accuracy: {}'.format(accuracy_score (y_test, preds1)*100) + \"%\")\n",
    "print ('Precision: {}'.format(precision_score(y_test, preds1, average='weighted')*100) + \"%\")\n",
    "print ('Recall: {}'.format(recall_score(y_test, preds1, average='weighted')*100) + \"%\")"
   ]
  },
  {
   "cell_type": "markdown",
   "metadata": {},
   "source": [
    "Dibawah ini menggunakan n_estimators=100, max_depth=50 dan max_features= sqrt"
   ]
  },
  {
   "cell_type": "code",
   "execution_count": 42,
   "metadata": {},
   "outputs": [
    {
     "name": "stdout",
     "output_type": "stream",
     "text": [
      "Accuracy: 83.1875%\n",
      "Precision: 83.19223838170983%\n",
      "Recall: 83.1875%\n"
     ]
    }
   ],
   "source": [
    "clf2 = RandomForestClassifier(n_estimators=100, max_depth=50, bootstrap=True, class_weight=None, criterion='gini',\n",
    "            max_features='sqrt', max_leaf_nodes=None,\n",
    "            min_impurity_decrease=0.0, min_impurity_split=None,\n",
    "            min_samples_leaf=1, min_samples_split=2,\n",
    "            min_weight_fraction_leaf=0.0, n_jobs=1,\n",
    "            oob_score=False, random_state=None, verbose=0,\n",
    "            warm_start=False)\n",
    "clf2 = clf2.fit(tfidf_train, y_train)\n",
    "preds2 = clf2.predict(tfidf_test)\n",
    "print ('Accuracy: {}'.format(accuracy_score (y_test, preds2)*100) + \"%\")\n",
    "print ('Precision: {}'.format(precision_score(y_test, preds2, average='weighted')*100) + \"%\")\n",
    "print ('Recall: {}'.format(recall_score(y_test, preds2, average='weighted')*100) + \"%\")"
   ]
  },
  {
   "cell_type": "markdown",
   "metadata": {},
   "source": [
    "Dibawah ini menggunakan n_estimators=200, max_depth=100 dan max_features= log2"
   ]
  },
  {
   "cell_type": "code",
   "execution_count": 43,
   "metadata": {},
   "outputs": [
    {
     "name": "stdout",
     "output_type": "stream",
     "text": [
      "Accuracy: 84.55%\n",
      "Precision: 84.54979167082202%\n",
      "Recall: 84.55%\n"
     ]
    }
   ],
   "source": [
    "clf3 = RandomForestClassifier(n_estimators=200, random_state=0, max_depth=100, bootstrap=True, class_weight=None, criterion='gini',\n",
    "            max_features='log2', max_leaf_nodes=None,\n",
    "            min_impurity_decrease=0.0, min_impurity_split=None,\n",
    "            min_samples_leaf=1, min_samples_split=2,\n",
    "            min_weight_fraction_leaf=0.0, n_jobs=1,\n",
    "            oob_score=False, verbose=0,\n",
    "            warm_start=False)\n",
    "clf3 = clf3.fit(tfidf_train, y_train)\n",
    "preds3 = clf3.predict(tfidf_test)\n",
    "print ('Accuracy: {}'.format(accuracy_score (y_test, preds3)*100) + \"%\")\n",
    "print ('Precision: {}'.format(precision_score(y_test, preds3, average='weighted')*100) + \"%\")\n",
    "print ('Recall: {}'.format(recall_score(y_test, preds3, average='weighted')*100) + \"%\")"
   ]
  },
  {
   "cell_type": "code",
   "execution_count": null,
   "metadata": {},
   "outputs": [],
   "source": []
  }
 ],
 "metadata": {
  "kernelspec": {
   "display_name": "Python 3",
   "language": "python",
   "name": "python3"
  },
  "language_info": {
   "codemirror_mode": {
    "name": "ipython",
    "version": 3
   },
   "file_extension": ".py",
   "mimetype": "text/x-python",
   "name": "python",
   "nbconvert_exporter": "python",
   "pygments_lexer": "ipython3",
   "version": "3.8.3"
  }
 },
 "nbformat": 4,
 "nbformat_minor": 4
}
