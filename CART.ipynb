{
 "cells": [
  {
   "cell_type": "code",
   "execution_count": 1,
   "metadata": {},
   "outputs": [],
   "source": [
    "import pandas as pd\n",
    "import numpy as np\n",
    "from sklearn import tree\n",
    "from sklearn.metrics import accuracy_score\n",
    "from sklearn.metrics import precision_score\n",
    "from sklearn.metrics import recall_score\n",
    "from sklearn.feature_extraction.text import CountVectorizer, TfidfVectorizer, TfidfTransformer\n",
    "from sklearn.model_selection import train_test_split"
   ]
  },
  {
   "cell_type": "code",
   "execution_count": 2,
   "metadata": {},
   "outputs": [],
   "source": [
    "df = pd.read_csv('Train Processing1.csv')\n",
    "df.replace('', np.nan, inplace=True)\n",
    "df.dropna(inplace=True)\n",
    "Positive = df.loc[df['label'] == 1, 'text'].copy().reset_index(drop=True)\n",
    "Negative = df.loc[df['label'] == 0, 'text'].copy().reset_index(drop=True)"
   ]
  },
  {
   "cell_type": "code",
   "execution_count": 3,
   "metadata": {},
   "outputs": [
    {
     "data": {
      "text/plain": [
       "(19981, 20019)"
      ]
     },
     "execution_count": 3,
     "metadata": {},
     "output_type": "execute_result"
    }
   ],
   "source": [
    "len(Positive), len(Negative)"
   ]
  },
  {
   "cell_type": "code",
   "execution_count": 4,
   "metadata": {},
   "outputs": [],
   "source": [
    "vect = TfidfVectorizer(max_features=15000, min_df=5, max_df=0.7)"
   ]
  },
  {
   "cell_type": "code",
   "execution_count": 9,
   "metadata": {},
   "outputs": [],
   "source": [
    "X_train, X_test, y_train, y_test = train_test_split(df['text'].values, df['label'].values, test_size=0.2, random_state=42)"
   ]
  },
  {
   "cell_type": "code",
   "execution_count": 10,
   "metadata": {},
   "outputs": [
    {
     "data": {
      "text/plain": [
       "(32000, 8000, 32000, 8000)"
      ]
     },
     "execution_count": 10,
     "metadata": {},
     "output_type": "execute_result"
    }
   ],
   "source": [
    "len(X_train), len(X_test), len(y_train), len(y_test)"
   ]
  },
  {
   "cell_type": "code",
   "execution_count": 11,
   "metadata": {},
   "outputs": [],
   "source": [
    "tfidf_train = vect.fit_transform(X_train)\n",
    "tfidf_test = vect.transform(X_test)"
   ]
  },
  {
   "cell_type": "code",
   "execution_count": null,
   "metadata": {},
   "outputs": [],
   "source": [
    "'''\n",
    "parameter yang di observasi : max_depth 5, 10, 50\n",
    "untuk max depth 5, akurasinya : 62,815%\n",
    "untuk max depth 10, akurasinya : 71,6875% \n",
    "untuk max depth 50, akurasinya : 74,012%\n",
    "'''"
   ]
  },
  {
   "cell_type": "code",
   "execution_count": 53,
   "metadata": {},
   "outputs": [
    {
     "name": "stdout",
     "output_type": "stream",
     "text": [
      "Accuracy: 62.81250000000001%\n",
      "Precision: 69.90184347358203%\n",
      "Recall: 62.81250000000001%\n"
     ]
    }
   ],
   "source": [
    "clf7 = tree.DecisionTreeClassifier(splitter = \"random\", max_features = None, max_depth = 5)\n",
    "clf7 = clf7.fit(tfidf_train, y_train)\n",
    "preds7 = clf7.predict(tfidf_test)\n",
    "print ('Accuracy: {}'.format(accuracy_score (y_test, preds7)*100) + \"%\")\n",
    "print ('Precision: {}'.format(precision_score(y_test, preds7, average='weighted')*100) + \"%\")\n",
    "print ('Recall: {}'.format(recall_score(y_test, preds7, average='weighted')*100) + \"%\")"
   ]
  },
  {
   "cell_type": "code",
   "execution_count": 52,
   "metadata": {},
   "outputs": [
    {
     "name": "stdout",
     "output_type": "stream",
     "text": [
      "Accuracy: 71.6875%\n",
      "Precision: 73.09688419944625%\n",
      "Recall: 71.6875%\n"
     ]
    }
   ],
   "source": [
    "clf8 = tree.DecisionTreeClassifier(splitter = \"random\", max_features = None, max_depth = 10)\n",
    "clf8 = clf8.fit(tfidf_train, y_train)\n",
    "preds8 = clf8.predict(tfidf_test)\n",
    "print ('Accuracy: {}'.format(accuracy_score (y_test, preds8)*100) + \"%\")\n",
    "print ('Precision: {}'.format(precision_score(y_test, preds8, average='weighted')*100) + \"%\")\n",
    "print ('Recall: {}'.format(recall_score(y_test, preds8, average='weighted')*100) + \"%\")"
   ]
  },
  {
   "cell_type": "code",
   "execution_count": 51,
   "metadata": {},
   "outputs": [
    {
     "name": "stdout",
     "output_type": "stream",
     "text": [
      "Accuracy: 74.0125%\n",
      "Precision: 74.19197829891965%\n",
      "Recall: 74.0125%\n"
     ]
    }
   ],
   "source": [
    "clf9 = tree.DecisionTreeClassifier(splitter = \"random\", max_features = None, max_depth = 50)\n",
    "clf9 = clf9.fit(tfidf_train, y_train)\n",
    "preds9 = clf9.predict(tfidf_test)\n",
    "print ('Accuracy: {}'.format(accuracy_score (y_test, preds9)*100) + \"%\")\n",
    "print ('Precision: {}'.format(precision_score(y_test, preds9, average='weighted')*100) + \"%\")\n",
    "print ('Recall: {}'.format(recall_score(y_test, preds9, average='weighted')*100) + \"%\")"
   ]
  }
 ],
 "metadata": {
  "kernelspec": {
   "display_name": "Python 3",
   "language": "python",
   "name": "python3"
  },
  "language_info": {
   "codemirror_mode": {
    "name": "ipython",
    "version": 3
   },
   "file_extension": ".py",
   "mimetype": "text/x-python",
   "name": "python",
   "nbconvert_exporter": "python",
   "pygments_lexer": "ipython3",
   "version": "3.8.3"
  }
 },
 "nbformat": 4,
 "nbformat_minor": 4
}
