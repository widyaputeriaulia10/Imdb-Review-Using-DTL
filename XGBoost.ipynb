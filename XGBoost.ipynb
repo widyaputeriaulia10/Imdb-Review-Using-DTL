{
  "nbformat": 4,
  "nbformat_minor": 0,
  "metadata": {
    "colab": {
      "name": "Xgboost.ipynb",
      "provenance": [],
      "toc_visible": true
    },
    "kernelspec": {
      "name": "python3",
      "display_name": "Python 3"
    },
    "accelerator": "GPU"
  },
  "cells": [
    {
      "cell_type": "code",
      "metadata": {
        "id": "BBhaqp6SQ54G"
      },
      "source": [
        "import numpy as np\n",
        "import pandas as pd\n",
        "\n",
        "from sklearn.metrics import precision_score\n",
        "from sklearn.metrics import recall_score\n",
        "from sklearn.feature_extraction.text import CountVectorizer, TfidfVectorizer, TfidfTransformer\n",
        "from sklearn.linear_model import LogisticRegression\n",
        "from sklearn.model_selection import cross_val_score\n",
        "from scipy.sparse import hstack\n",
        "import xgboost as xgb\n",
        "from xgboost.sklearn import XGBClassifier # <3\n",
        "from sklearn.model_selection import train_test_split\n",
        "import os"
      ],
      "execution_count": 3,
      "outputs": []
    },
    {
      "cell_type": "code",
      "metadata": {
        "id": "46jPfE6avTY-"
      },
      "source": [
        "\n",
        "from sklearn.metrics import confusion_matrix\n",
        "from sklearn.model_selection import GridSearchCV\n",
        "from sklearn.metrics import accuracy_score\n",
        "import os"
      ],
      "execution_count": 4,
      "outputs": []
    },
    {
      "cell_type": "code",
      "metadata": {
        "id": "w3DOdJHRmk08",
        "outputId": "f362fa67-511a-47be-c1ba-5c543c713041",
        "colab": {
          "base_uri": "https://localhost:8080/"
        }
      },
      "source": [
        "from google.colab import drive\n",
        "drive.mount(\"/content/gdrive\")"
      ],
      "execution_count": 4,
      "outputs": [
        {
          "output_type": "stream",
          "text": [
            "Drive already mounted at /content/gdrive; to attempt to forcibly remount, call drive.mount(\"/content/gdrive\", force_remount=True).\n"
          ],
          "name": "stdout"
        }
      ]
    },
    {
      "cell_type": "code",
      "metadata": {
        "id": "PyM-cobKRAea"
      },
      "source": [
        "df = pd.read_csv('/content/drive/My Drive/Movie Data/Train Processing1.csv')\n",
        "df.replace('', np.nan, inplace=True)\n",
        "df.dropna(inplace=True)\n",
        "Positive = df.loc[df['label'] == 1, 'text'].copy().reset_index(drop=True)\n",
        "Negative = df.loc[df['label'] == 0, 'text'].copy().reset_index(drop=True)"
      ],
      "execution_count": 6,
      "outputs": []
    },
    {
      "cell_type": "code",
      "metadata": {
        "id": "rp1hPBSPR6Z9"
      },
      "source": [
        "vect = TfidfVectorizer(max_features=1500, min_df=5, max_df=0.7)"
      ],
      "execution_count": 7,
      "outputs": []
    },
    {
      "cell_type": "code",
      "metadata": {
        "id": "_eont6oMqV6T"
      },
      "source": [
        "X_train, X_test, y_train, y_test = train_test_split(df['text'].values, df['label'].values, test_size=0.2, random_state=0)"
      ],
      "execution_count": 8,
      "outputs": []
    },
    {
      "cell_type": "code",
      "metadata": {
        "id": "-1HQDHShqaDu",
        "outputId": "509a9f85-d7ff-43db-e20e-b4c1bfed22ed",
        "colab": {
          "base_uri": "https://localhost:8080/"
        }
      },
      "source": [
        "len(X_train), len(X_test), len(y_train), len(y_test)"
      ],
      "execution_count": 9,
      "outputs": [
        {
          "output_type": "execute_result",
          "data": {
            "text/plain": [
              "(32000, 8000, 32000, 8000)"
            ]
          },
          "metadata": {
            "tags": []
          },
          "execution_count": 9
        }
      ]
    },
    {
      "cell_type": "code",
      "metadata": {
        "id": "kEjG4MKdqcsm"
      },
      "source": [
        "tfidf_train = vect.fit_transform(X_train)\n",
        "tfidf_test = vect.transform(X_test)"
      ],
      "execution_count": 10,
      "outputs": []
    },
    {
      "cell_type": "code",
      "metadata": {
        "id": "O3WW31xpxGQc",
        "outputId": "314ceefe-9fdf-4b6c-9da0-12ae672c4ba0",
        "colab": {
          "base_uri": "https://localhost:8080/"
        }
      },
      "source": [
        "clf1 = xgb.XGBClassifier(learning_rate =0.1, n_estimators=140, max_depth=4,\n",
        " min_child_weight=6, gamma=0, reg_alpha=0.005, subsample=0.8, colsample_bytree=0.8,\n",
        " objective= 'binary:logistic', nthread=4, scale_pos_weight=1,seed=27)\n",
        "clf1 = clf1.fit(tfidf_train, y_train)\n",
        "preds1 = clf1.predict(tfidf_test)\n",
        "print ('Accuracy: {}'.format(accuracy_score (y_test, preds1)*100) + \"%\")\n",
        "print ('Precision: {}'.format(precision_score(y_test, preds1, average='weighted')*100) + \"%\")\n",
        "print ('Recall: {}'.format(recall_score(y_test, preds1, average='weighted')*100) + \"%\")"
      ],
      "execution_count": 21,
      "outputs": [
        {
          "output_type": "stream",
          "text": [
            "Accuracy: 82.4375%\n",
            "Precision: 82.64798163361607%\n",
            "Recall: 82.4375%\n"
          ],
          "name": "stdout"
        }
      ]
    },
    {
      "cell_type": "code",
      "metadata": {
        "id": "u-NkrGwWqfmK",
        "outputId": "d64abdc2-a2ea-47cd-8e1c-49622b70cf27",
        "colab": {
          "base_uri": "https://localhost:8080/"
        }
      },
      "source": [
        "clf2 = xgb.XGBClassifier(learning_rate =0.1, n_estimators=140, max_depth=4,\n",
        " min_child_weight=6, gamma=0,reg_alpha=0.1, subsample=0.8, colsample_bytree=0.8,\n",
        " objective= 'binary:logistic', nthread=4, scale_pos_weight=1,seed=27)\n",
        "clf2 = clf2.fit(tfidf_train, y_train)\n",
        "preds2 = clf2.predict(tfidf_test)\n",
        "print ('Accuracy: {}'.format(accuracy_score (y_test, preds2)*100) + \"%\")\n",
        "print ('Precision: {}'.format(precision_score(y_test, preds2, average='weighted')*100) + \"%\")\n",
        "print ('Recall: {}'.format(recall_score(y_test, preds2, average='weighted')*100) + \"%\")"
      ],
      "execution_count": 23,
      "outputs": [
        {
          "output_type": "stream",
          "text": [
            "Accuracy: 82.625%\n",
            "Precision: 82.77681826786345%\n",
            "Recall: 82.625%\n"
          ],
          "name": "stdout"
        }
      ]
    },
    {
      "cell_type": "code",
      "metadata": {
        "id": "YAZ4yDYo1Vmm",
        "outputId": "3b823576-13fb-48f2-c7d4-0991748df0ae",
        "colab": {
          "base_uri": "https://localhost:8080/"
        }
      },
      "source": [
        "clf3 = xgb.XGBClassifier(learning_rate =0.1, n_estimators=177, max_depth=4,\n",
        " min_child_weight=6, gamma=0, reg_alpha = 0.005, subsample=0.8, colsample_bytree=0.8,\n",
        " objective= 'binary:logistic', nthread=4, scale_pos_weight=1,seed=27)\n",
        "clf3 = clf3.fit(tfidf_train, y_train)\n",
        "preds3 = clf3.predict(tfidf_test)\n",
        "print ('Accuracy: {}'.format(accuracy_score (y_test, preds3)*100) + \"%\")\n",
        "print ('Precision: {}'.format(precision_score(y_test, preds3, average='weighted')*100) + \"%\")\n",
        "print ('Recall: {}'.format(recall_score(y_test, preds3, average='weighted')*100) + \"%\")"
      ],
      "execution_count": 24,
      "outputs": [
        {
          "output_type": "stream",
          "text": [
            "Accuracy: 82.89999999999999%\n",
            "Precision: 83.05354894216104%\n",
            "Recall: 82.89999999999999%\n"
          ],
          "name": "stdout"
        }
      ]
    },
    {
      "cell_type": "code",
      "metadata": {
        "id": "cEcnu8wL2ns2",
        "outputId": "24b7c6f7-8313-475f-9cb9-28eb00fa9b4b",
        "colab": {
          "base_uri": "https://localhost:8080/"
        }
      },
      "source": [
        "clf4 = xgb.XGBClassifier(learning_rate =0.1, n_estimators=177, max_depth=4,\n",
        " min_child_weight=6, gamma=0, reg_alpha = 0.1, subsample=0.8, colsample_bytree=0.8,\n",
        " objective= 'binary:logistic', nthread=4, scale_pos_weight=1,seed=27)\n",
        "clf4 = clf4.fit(tfidf_train, y_train)\n",
        "preds4 = clf4.predict(tfidf_test)\n",
        "print ('Accuracy: {}'.format(accuracy_score (y_test, preds4)*100) + \"%\")\n",
        "print ('Precision: {}'.format(precision_score(y_test, preds4, average='weighted')*100) + \"%\")\n",
        "print ('Recall: {}'.format(recall_score(y_test, preds4, average='weighted')*100) + \"%\")"
      ],
      "execution_count": 25,
      "outputs": [
        {
          "output_type": "stream",
          "text": [
            "Accuracy: 83.0875%\n",
            "Precision: 83.22339777454046%\n",
            "Recall: 83.0875%\n"
          ],
          "name": "stdout"
        }
      ]
    },
    {
      "cell_type": "code",
      "metadata": {
        "id": "zOSaPbJH3cd9",
        "outputId": "70b60b42-06ec-4c0c-8cf9-066678f39d3f",
        "colab": {
          "base_uri": "https://localhost:8080/"
        }
      },
      "source": [
        "clf5 = xgb.XGBClassifier(learning_rate =0.1, n_estimators=1000, max_depth=4,\n",
        " min_child_weight=6, gamma=0, reg_alpha = 0.005, subsample=0.8, colsample_bytree=0.8,\n",
        " objective= 'binary:logistic', nthread=4, scale_pos_weight=1,seed=27)\n",
        "clf5 = clf5.fit(tfidf_train, y_train)\n",
        "preds5 = clf5.predict(tfidf_test)\n",
        "print ('Accuracy: {}'.format(accuracy_score (y_test, preds5)*100) + \"%\")\n",
        "print ('Precision: {}'.format(precision_score(y_test, preds5, average='weighted')*100) + \"%\")\n",
        "print ('Recall: {}'.format(recall_score(y_test, preds5, average='weighted')*100) + \"%\")"
      ],
      "execution_count": 26,
      "outputs": [
        {
          "output_type": "stream",
          "text": [
            "Accuracy: 86.25%\n",
            "Precision: 86.25924334124339%\n",
            "Recall: 86.25%\n"
          ],
          "name": "stdout"
        }
      ]
    },
    {
      "cell_type": "code",
      "metadata": {
        "id": "AMILp7rp5SXk",
        "outputId": "cea44053-1904-48ca-ff52-6f2479ced267",
        "colab": {
          "base_uri": "https://localhost:8080/"
        }
      },
      "source": [
        "clf6 = xgb.XGBClassifier(learning_rate =0.1, n_estimators=1000, max_depth=4,\n",
        " min_child_weight=6, gamma=0, reg_alpha = 0.1, subsample=0.8, colsample_bytree=0.8,\n",
        " objective= 'binary:logistic', nthread=4, scale_pos_weight=1,seed=27)\n",
        "clf6 = clf6.fit(tfidf_train, y_train)\n",
        "preds6 = clf6.predict(tfidf_test)\n",
        "print ('Accuracy: {}'.format(accuracy_score (y_test, preds6)*100) + \"%\")\n",
        "print ('Precision: {}'.format(precision_score(y_test, preds6, average='weighted')*100) + \"%\")\n",
        "print ('Recall: {}'.format(recall_score(y_test, preds6, average='weighted')*100) + \"%\")"
      ],
      "execution_count": 27,
      "outputs": [
        {
          "output_type": "stream",
          "text": [
            "Accuracy: 86.1%\n",
            "Precision: 86.10747546244816%\n",
            "Recall: 86.1%\n"
          ],
          "name": "stdout"
        }
      ]
    },
    {
      "cell_type": "code",
      "metadata": {
        "id": "lKnFwNc_5sk5",
        "outputId": "21871a64-7471-48db-fe27-ec4e34c2c1da",
        "colab": {
          "base_uri": "https://localhost:8080/"
        }
      },
      "source": [
        "clf7 = xgb.XGBClassifier(learning_rate =0.01, n_estimators=140, max_depth=4,\n",
        " min_child_weight=6, gamma=0, reg_alpha = 0.005, subsample=0.8, colsample_bytree=0.8,\n",
        " objective= 'binary:logistic', nthread=4, scale_pos_weight=1,seed=27)\n",
        "clf7 = clf7.fit(tfidf_train, y_train)\n",
        "preds7 = clf7.predict(tfidf_test)\n",
        "print ('Accuracy: {}'.format(accuracy_score (y_test, preds7)*100) + \"%\")\n",
        "print ('Precision: {}'.format(precision_score(y_test, preds7, average='weighted')*100) + \"%\")\n",
        "print ('Recall: {}'.format(recall_score(y_test, preds7, average='weighted')*100) + \"%\")"
      ],
      "execution_count": 28,
      "outputs": [
        {
          "output_type": "stream",
          "text": [
            "Accuracy: 74.6%\n",
            "Precision: 75.69856888545499%\n",
            "Recall: 74.6%\n"
          ],
          "name": "stdout"
        }
      ]
    },
    {
      "cell_type": "code",
      "metadata": {
        "id": "x60LLP3B59F_",
        "outputId": "c9b8a6ca-0a68-43cc-99cd-182e1c208a5d",
        "colab": {
          "base_uri": "https://localhost:8080/"
        }
      },
      "source": [
        "clf8 = xgb.XGBClassifier(learning_rate =0.01, n_estimators=140, max_depth=4,\n",
        " min_child_weight=6, gamma=0, reg_alpha = 0.1, subsample=0.8, colsample_bytree=0.8,\n",
        " objective= 'binary:logistic', nthread=4, scale_pos_weight=1,seed=27)\n",
        "clf8 = clf8.fit(tfidf_train, y_train)\n",
        "preds8 = clf8.predict(tfidf_test)\n",
        "print ('Accuracy: {}'.format(accuracy_score (y_test, preds8)*100) + \"%\")\n",
        "print ('Precision: {}'.format(precision_score(y_test, preds8, average='weighted')*100) + \"%\")\n",
        "print ('Recall: {}'.format(recall_score(y_test, preds8, average='weighted')*100) + \"%\")"
      ],
      "execution_count": 29,
      "outputs": [
        {
          "output_type": "stream",
          "text": [
            "Accuracy: 74.7125%\n",
            "Precision: 75.81403688070665%\n",
            "Recall: 74.7125%\n"
          ],
          "name": "stdout"
        }
      ]
    },
    {
      "cell_type": "code",
      "metadata": {
        "id": "z7UQ79oa6R3d",
        "outputId": "e755fbab-72cc-4c7b-c305-a727d9e3464e",
        "colab": {
          "base_uri": "https://localhost:8080/"
        }
      },
      "source": [
        "clf9 = xgb.XGBClassifier(learning_rate =0.01, n_estimators=177, max_depth=4,\n",
        " min_child_weight=6, gamma=0, reg_alpha = 0.005, subsample=0.8, colsample_bytree=0.8,\n",
        " objective= 'binary:logistic', nthread=4, scale_pos_weight=1,seed=27)\n",
        "clf9 = clf9.fit(tfidf_train, y_train)\n",
        "preds9 = clf9.predict(tfidf_test)\n",
        "print ('Accuracy: {}'.format(accuracy_score (y_test, preds9)*100) + \"%\")\n",
        "print ('Precision: {}'.format(precision_score(y_test, preds9, average='weighted')*100) + \"%\")\n",
        "print ('Recall: {}'.format(recall_score(y_test, preds9, average='weighted')*100) + \"%\")"
      ],
      "execution_count": 30,
      "outputs": [
        {
          "output_type": "stream",
          "text": [
            "Accuracy: 75.05%\n",
            "Precision: 76.15462338256525%\n",
            "Recall: 75.05%\n"
          ],
          "name": "stdout"
        }
      ]
    },
    {
      "cell_type": "code",
      "metadata": {
        "id": "Ke3y1V6s6bO-",
        "outputId": "67c8ba27-ab56-48bd-d490-4fc3fa0e17a4",
        "colab": {
          "base_uri": "https://localhost:8080/"
        }
      },
      "source": [
        "clf10 = xgb.XGBClassifier(learning_rate =0.01, n_estimators=177, max_depth=4,\n",
        " min_child_weight=6, gamma=0, reg_alpha = 0.1, subsample=0.8, colsample_bytree=0.8,\n",
        " objective= 'binary:logistic', nthread=4, scale_pos_weight=1,seed=27)\n",
        "clf10 = clf10.fit(tfidf_train, y_train)\n",
        "preds10 = clf10.predict(tfidf_test)\n",
        "print ('Accuracy: {}'.format(accuracy_score (y_test, preds10)*100) + \"%\")\n",
        "print ('Precision: {}'.format(precision_score(y_test, preds10, average='weighted')*100) + \"%\")\n",
        "print ('Recall: {}'.format(recall_score(y_test, preds10, average='weighted')*100) + \"%\")"
      ],
      "execution_count": 32,
      "outputs": [
        {
          "output_type": "stream",
          "text": [
            "Accuracy: 75.05%\n",
            "Precision: 76.16030015120224%\n",
            "Recall: 75.05%\n"
          ],
          "name": "stdout"
        }
      ]
    },
    {
      "cell_type": "code",
      "metadata": {
        "id": "C2bVDaPn6qxt",
        "outputId": "6d475110-8fc4-4624-f5be-a1186b350bcb",
        "colab": {
          "base_uri": "https://localhost:8080/"
        }
      },
      "source": [
        "clf11 = xgb.XGBClassifier(learning_rate =0.01, n_estimators=1000, max_depth=4,\n",
        " min_child_weight=6, gamma=0, reg_alpha = 0.005, subsample=0.8, colsample_bytree=0.8,\n",
        " objective= 'binary:logistic', nthread=4, scale_pos_weight=1,seed=27)\n",
        "clf11 = clf11.fit(tfidf_train, y_train)\n",
        "preds11 = clf11.predict(tfidf_test)\n",
        "print ('Accuracy: {}'.format(accuracy_score (y_test, preds11)*100) + \"%\")\n",
        "print ('Precision: {}'.format(precision_score(y_test, preds11, average='weighted')*100) + \"%\")\n",
        "print ('Recall: {}'.format(recall_score(y_test, preds11, average='weighted')*100) + \"%\")"
      ],
      "execution_count": 33,
      "outputs": [
        {
          "output_type": "stream",
          "text": [
            "Accuracy: 81.69999999999999%\n",
            "Precision: 81.9725234662123%\n",
            "Recall: 81.69999999999999%\n"
          ],
          "name": "stdout"
        }
      ]
    },
    {
      "cell_type": "code",
      "metadata": {
        "id": "a4yQoD-z61nY",
        "outputId": "69b29b96-e351-429c-e397-9ec063d42c30",
        "colab": {
          "base_uri": "https://localhost:8080/"
        }
      },
      "source": [
        "clf12 = xgb.XGBClassifier(learning_rate =0.01, n_estimators=1000, max_depth=4,\n",
        " min_child_weight=6, gamma=0, reg_alpha = 0.1, subsample=0.8, colsample_bytree=0.8,\n",
        " objective= 'binary:logistic', nthread=4, scale_pos_weight=1,seed=27)\n",
        "clf12 = clf12.fit(tfidf_train, y_train)\n",
        "preds12 = clf12.predict(tfidf_test)\n",
        "print ('Accuracy: {}'.format(accuracy_score (y_test, preds12)*100) + \"%\")\n",
        "print ('Precision: {}'.format(precision_score(y_test, preds12, average='weighted')*100) + \"%\")\n",
        "print ('Recall: {}'.format(recall_score(y_test, preds12, average='weighted')*100) + \"%\")"
      ],
      "execution_count": 34,
      "outputs": [
        {
          "output_type": "stream",
          "text": [
            "Accuracy: 81.525%\n",
            "Precision: 81.79265676072725%\n",
            "Recall: 81.525%\n"
          ],
          "name": "stdout"
        }
      ]
    },
    {
      "cell_type": "code",
      "metadata": {
        "id": "gifpQaDp-UJl"
      },
      "source": [
        ""
      ],
      "execution_count": null,
      "outputs": []
    }
  ]
}